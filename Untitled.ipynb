{
 "cells": [
  {
   "cell_type": "code",
   "execution_count": 3,
   "metadata": {},
   "outputs": [],
   "source": [
    "from bs4 import BeautifulSoup #importing beautifulsoup"
   ]
  },
  {
   "cell_type": "code",
   "execution_count": 126,
   "metadata": {},
   "outputs": [],
   "source": [
    "import requests\n",
    "import re"
   ]
  },
  {
   "cell_type": "code",
   "execution_count": 127,
   "metadata": {},
   "outputs": [],
   "source": [
    "page  = requests.get(\"https://radio.capital.pe/programas/viajeaotradimension\")"
   ]
  },
  {
   "cell_type": "code",
   "execution_count": 128,
   "metadata": {},
   "outputs": [],
   "source": [
    "soup= BeautifulSoup(page.content, 'html.parser')"
   ]
  },
  {
   "cell_type": "code",
   "execution_count": 129,
   "metadata": {},
   "outputs": [],
   "source": [
    "box = soup.find(class_='box-mod') #finding the box where there are the information"
   ]
  },
  {
   "cell_type": "code",
   "execution_count": 161,
   "metadata": {},
   "outputs": [
    {
     "name": "stdout",
     "output_type": "stream",
     "text": [
      "Episodio del 23/12/2019\n",
      "Episodio del 20/12/2019\n",
      "Episodio del 19/12/2019\n",
      "Episodio del 18/12/2019\n",
      "Episodio del 17/12/2019\n",
      "Episodio del 16/12/2019\n",
      "Episodio del 13/12/2019\n",
      "Episodio del 12/12/2019\n",
      "Episodio del 11/12/2019\n",
      "Episodio del 10/12/2019\n",
      "Episodio del 09/12/2019\n",
      "Episodio del 06/12/2019\n",
      "Episodio del 05/12/2019\n",
      "Episodio del 04/12/2019\n",
      "Episodio del 03/12/2019\n",
      "Episodio del 02/12/2019\n",
      "Episodio del 29/11/2019\n",
      "Episodio del 28/11/2019\n",
      "Episodio del 27/11/2019\n",
      "Episodio del 26/11/2019\n",
      "Episodio del 25/11/2019\n",
      "Episodio del 22/11/2019\n",
      "Episodio del 21/11/2019\n",
      "Episodio del 20/11/2019\n",
      "Episodio del 19/11/2019\n",
      "Episodio del 18/11/2019\n",
      "Episodio del 15/11/2019\n",
      "Episodio del 14/11/2019\n",
      "Episodio del 13/11/2019\n",
      "Episodio del 12/11/2019\n"
     ]
    }
   ],
   "source": [
    "date = []\n",
    "info = box.find_all('span','info')\n",
    "for ifo in info:\n",
    "    print((ifo.get_text()))\n",
    "    date.append(ifo.get_text())"
   ]
  },
  {
   "cell_type": "code",
   "execution_count": 174,
   "metadata": {},
   "outputs": [
    {
     "name": "stdout",
     "output_type": "stream",
     "text": [
      "Actividad paranormal en casa de Miraflores\n",
      "Encuentros cercanos con extraterrestres\n",
      "Presencia extraterrestre en el arte mundial\n",
      "Razas extraterrestres que vivirían camufladas entre los humanos\n",
      "Curaciones milagrosas desde la fe\n",
      "Contactándose con un ser querido fallecido\n",
      "Investigaciones ovni en Perú: los protagonistas\n",
      "¿Qué películas de miedo recomiendas para niños?\n",
      "Ovnis y tesoros escondidos: los misterios del Cerro San Cristóbal\n",
      "Gritos de auxilio desde el más allá: evidencias desde el Cementerio El Ángel\n",
      "Actividad paranormal en casa de Chorrillos\n",
      "La Mujer Vampiro de Barranco: nuevas evidencias\n",
      "La historia real tras Chucky… el muñeco diabólico\n",
      "Actividad paranormal en ‘La piscina de los muertos’\n",
      "Acosado por extraterrestres: la historia de Óscar Romero\n",
      "Viaje a Otra Dimensión con Anthony Choy\n",
      "Viaje a Otra Dimensión con el Dr. Anthony Choy\n",
      "Viaje a Otra Dimensión con el Dr. Anthony Choy\n",
      "Viaje a Otra Dimensión con el Dr. Anthony Choy\n",
      "Depredadores Invisibles en la selva peruana: La Historia de José María\n",
      "Incubos: Existen los demonios violadores\n",
      "Viaje a Otra Dimensión Kids\n",
      "Eventos paranormales en discotecas de Arequipa\n",
      "Encuentros con extraterrestres: escritura alienígena\n",
      "Muñecos poseidos: la terrorífica historia de Howdy Doddy\n",
      "Reptilianos ¿están camuflados entre nosotros?\n",
      "Viaje a Otra Dimensión: Especial niños\n",
      "Acoso mortal: “lo que nos trajimos... del cementerio”\n",
      "Cementerio El Ángel… los sorprendentes hallazgos\n",
      "La ‘Perricholi’: actividad paranormal en su casa de Huánuco \n"
     ]
    }
   ],
   "source": [
    "titles = []\n",
    "title = box.find_all('h2', 'title-podcast')\n",
    "for ti in title:\n",
    "    print(ti.get_text())\n",
    "    titles.append(ti.get_text())"
   ]
  },
  {
   "cell_type": "code",
   "execution_count": 177,
   "metadata": {},
   "outputs": [
    {
     "name": "stdout",
     "output_type": "stream",
     "text": [
      "\n",
      "Una familia pensaba que una serie de fenómenos sin explicación se empezó a suscitar a raíz de la partida un ser querido. No pudiendo lidiar con la situación, decidieron buscar ayuda… los ruidos, golpes, arañazos, cosas que se movían y hasta salían volando no eran por ello sino se debían a algo aterrador. En ‘Viaje a otra dimensión’ con Anthony Choy… ‘actividad paranormal en casa de Miraflores’\n",
      "\n",
      "\n",
      "Para tratar este interesante tema llegó a cabina el escritor e investigador Ricardo González. También tratamos Avistamiento ovni en Lima\n",
      "\n",
      "\n",
      "¿Sabía que en tapices, cuadros y antiguas ilustraciones que se remontan a los primeros siglos de la historia aparecen objetos voladores no identificados? En las pinturas europeas, por ejemplo, estas parecen abundar. Tal es el caso del cuadro de \"La crucifixión\" en el monasterio de Visocki Dechani, donde \"personas\" dicen ver dos naves espaciales en el cielo. En ‘Viaje a otra dimensión’: ‘Presencia extraterrestre en el arte mundial’\n",
      "\n",
      "\n",
      "No pocas razas de extraterrestres habrían visitado la tierra siendo vistas por personas que, venciendo el miedo al qué dirán, dieron fe de lo que vieron. Reptilianos, grises, anunnaki, pleyadianos, veganos, pertenecerían a este abanico de seres… pero un investigador llegó a cabina tras asegurar que fue contactado por una civilización no humana… En ‘Viaje a otra dimensión’: ‘razas extraterrestres que vivirían camufladas entre los humanos’\n",
      "\n",
      "\n",
      "Hoy nos visita el padre Miguel Vasallo para hablarnos sobre el poder de la oración en casos de enfermedad de un familiar. ¿Alguien cercano se curó milagrosamente? ¿Hubo una parte de la Biblia que te sostuvo, llagaron a ti con frecuencia imágenes de santos, de la Virgen o del propio Jesús? En ‘Viaje a otra dimensión’: ‘curaciones milagrosas desde la fe’\n",
      "\n",
      "\n",
      "¿Existen personas que pueden comunicarnos con el familiar que, al morir, no pudo despedirse de nosotros? ¿O que dejó algo pendiente que ignoramos? ¿O cuya muerte nunca se aclaró y que, esta noche, se puede saber qué sucedió? En Viaje a otra dimensión: Contactándote con tu ser querido fallecido\n",
      "\n",
      "\n",
      "Los mayores expertos sobre el tema ovni en Perú revelaron las últimas evidencias sobre sus investigaciones. En ‘Viaje a otra dimensión’ con Anthony Choy: Investigaciones ovni en Perú: los protagonistas\n",
      "\n",
      "\n",
      "Un programa hecho con mucho cariño para los más pequeños de la casa. Un capítulo para escuchar sus historias, recomendar películas, conversar también sobre sus ‘colecciones’, pero sobre todo, un compartir entre amigos. ‘Viaje a otra dimensión kids’\n",
      "\n",
      "\n",
      "Símbolo de la Ciudad Capital, es considerado el APU o Cerro Guardián de Lima. Existen muchos eventos extraños alrededor de él: eventos paranormales en sus inmediaciones, avistamientos ovnis y leyendas urbanas sobre tesoros enterrados pero ¿qué secretos guardan sus entrañas? En ‘Viaje a otra dimensión’: ‘Ovnis y tesoros escondidos: los misterios del Cerro San Cristóbal’\n",
      "\n",
      "\n",
      "Una investigación paranormal en uno de los camposantos más importantes de Lima. Un equipo de profesionales se trasladó hasta el Cementerio El Ángel grabando escalofriantes audios de voces desesperadas... En ‘Viaje a otra dimensión’: ‘Gritos de auxilio desde el más allá: evidencias desde el Cementerio El Ángel’\n",
      "\n",
      "\n",
      "Un equipo de investigación llegó a un hogar de Chorrillos luego que sus habitantes reportaran una serie de escalofriantes sucesos. ¿Será por una tragedia que ocurrió hace 25 años? ¿O será por la presencia de un juguete a pilas -presumiblemente- poseído que tuvo un extraño comportamiento…? En ‘Viaje a otra dimensión’: ‘Actividad paranormal en casa de Chorrillos’ \n",
      "\n",
      "\n",
      "La historia de 'La mujer vampiro de Barranco' data de hace muchos años, aproximadamente tres décadas, pero desde hace un par ha vuelto a cobrar vigencia, a raíz de los nuevos testimonios, principalmente de taxistas. En las últimas semanas aparecieron personas que -mediante sus testimonios- arrojaron nuevas luces sobre el oscuro personaje… En ‘Viaje a otra dimensión’: ‘La Mujer Vampiro de Barranco: nuevas evidencias’\n",
      "\n",
      "\n",
      "¿Sabían que en la vida real el muñeco ‘Robert’, que inspiró la película 'Chucky', fue hecho por una persona que practicaba la hechicería y el control de demonios? ¿Sabían también que una niña aseguró que ‘Robert’ trató de asesinarla? También… se dice cambiaba de lugares en la habitación donde lo ponían y observaba desde una ventana a estudiantes. En ‘Viaje a otra dimensión’: ‘La historia real tras Chucky… el muñeco diabólico’\n",
      "\n",
      "\n",
      "Espíritus de una niña y un hombre rondan, según testigos, una popular piscina construida en medio del cementerio Nueva Esperanza en Villa María del Triunfo. Es al caer la noche que la actividad paranormal se incrementa… lamentos, ruidos, y movimientos inexplicables de objetos como mangueras se suscitan. En ‘Viaje a otra dimensión’: ‘Actividad paranormal en La piscina de los muertos’ \n",
      "\n",
      "\n",
      "Todo parecía una pesadilla hasta que en una oportunidad, estando completamente despierto, sucedieron cosas inauditas: presencias terroríficas en su dormitorio, colocación de chips en su cabeza y hasta un extraño estado de parálisis del sueño de su menor hija... En Viaje a otra dimensión: ‘Acosado por extraterrestres: la historia de Óscar Romero’\n",
      "\n",
      "\n",
      "Viaje a Otra Dimensión con Anthony Choy\n",
      "\n",
      "\n",
      "Viaje a Otra Dimensión con el Dr. Anthony Choy\n",
      "\n",
      "\n",
      "Viaje a Otra Dimensión con el Dr. Anthony Choy\n",
      "\n",
      "\n",
      "Viaje a Otra Dimensión con el Dr. Anthony Choy\n",
      "\n",
      "\n",
      "Una cuadrilla de trabajadores petroleros se internaron en la selva para reparar un oleoducto, cuando vieron algo increíble: naves y seres de otros mundos...¿uds. recuerdan la película \" El Depredador\" ?\n",
      "\n",
      "\n",
      "¿Hay un aumento de estos casos, o es que siempre ocurrieron pero ahora las mujeres se atreven a hablar más abiertamente? Nuestro conductor Anthony Choy conversó en extenso con el investigador César Rojas.\n",
      "\n",
      "\n",
      "Viaje a Otra Dimensión Kids es la edición especial para los más jóvenes... Con Anthony Choy\n",
      "\n",
      "\n",
      "El investigador Rafael  Mercado reveló detalles de un hecho escalofriante e inexplicables en discotecas de Arequipa ¿qué fue lo que ocurrió?\n",
      "\n",
      "\n",
      "Jessica Portugal contó sus experiencias paranormales con extraños seres. Enterate los detalles en \"Viaje a Otra Dimensión\".\n",
      "\n",
      "\n",
      "El Director de la Casa Museo del Terror, Emiio Obregón, hizo revelaciones que te dejarán \"con los pelos de punta\". \n",
      "\n",
      "\n",
      "En dialogo con Anthony Choy, la investigadora Stephanie Espinoza contó con detalles sus encuentros con estos extraños seres.\n",
      "\n",
      "\n",
      "Viaje a Otra Dimensión: Especial niños. Con motivo del partido Perú-Colombia hoy edición más pequeña en todos los sentidos...\n",
      "\n",
      "\n",
      "¿Nos podemos llevar un espíritu maligno a casa tras haber visitado un camposanto? Investigador asegura que ‘algo’ lo ahorcó en el Cementerio Baquíjano ubicado en el Callao y siguió hasta su hogar donde empezaron a ocurrir espeluznantes fenómenos paranormales… En ‘Viaje a otra dimensión’… ‘Acoso mortal: lo que nos trajimos... del cementerio’\n",
      "\n",
      "\n",
      "¿Es verdad que médiums observaron cosas inexplicables en nuestra visita al Cementerio ‘El Ángel’ en el distrito de El Agustino? ¿Espíritus o algo quizás peor…? También… un vigilante contó que hay almas que llaman por su nombre a los visitantes, que sus compañeros vieron espíritus errantes, ángeles y hasta duendes que tiran piedras. En 'Viaje a otra dimensión’: ‘Cementerio El Ángel… los sorprendentes hallazgos’\n",
      "\n",
      "\n",
      "Turistas que visitaron la casa de María Micaela Villegas y Hurtado de Mendoza, la 'Perricholi', aseguran haber visto el fantasma de quizás una de las mujeres huanuqueñas más famosas de todo el Perú. Christian Bayro, periodista de investigación, fue hasta su hogar donde fue testigo de una inusual actividad paranormal… También hablamos del ‘Ekeko’, ¿es verdad que quienes se toparon con él y lo ayudaron fueron bendecidos con abundante riqueza? \n",
      "\n",
      "\n"
     ]
    }
   ],
   "source": [
    "para = []\n",
    "description = box.find_all('div', 'description-podcast')\n",
    "for des in description:\n",
    "    print(des.get_text())\n",
    "    para.append(des.get_text())"
   ]
  },
  {
   "cell_type": "code",
   "execution_count": 140,
   "metadata": {},
   "outputs": [
    {
     "data": {
      "text/plain": [
       "[<a class=\"item-listen play-button\" data-play-id=\"53885\" href=\"#play\" onclick=\"rppplayer.control(this, event, {'method':'play', 'id': 53885,  'title':'Actividad paranormal en casa de Miraflores', 'media': 'https://media.rpp.pe/cutter/audio/capital/2019/12/23/54.mp3' , 'origin':'viajeaotradimension' })\" title=\"Reproducir audio\"><i class=\"icon icon-play\"> </i></a>,\n",
       " <a class=\"item-listen play-button\" data-play-id=\"53361\" href=\"#play\" onclick=\"rppplayer.control(this, event, {'method':'play', 'id': 53361,  'title':'Encuentros cercanos con extraterrestres', 'media': 'https://media.rpp.pe/cutter/audio/capital/2019/12/20/54.mp3' , 'origin':'viajeaotradimension' })\" title=\"Reproducir audio\"><i class=\"icon icon-play\"> </i></a>,\n",
       " <a class=\"item-listen play-button\" data-play-id=\"53147\" href=\"#play\" onclick=\"rppplayer.control(this, event, {'method':'play', 'id': 53147,  'title':'Presencia extraterrestre en el arte mundial', 'media': 'https://media.rpp.pe/cutter/audio/capital/2019/12/19/54.mp3' , 'origin':'viajeaotradimension' })\" title=\"Reproducir audio\"><i class=\"icon icon-play\"> </i></a>,\n",
       " <a class=\"item-listen play-button\" data-play-id=\"52928\" href=\"#play\" onclick=\"rppplayer.control(this, event, {'method':'play', 'id': 52928,  'title':'Razas extraterrestres que vivirían camufladas entre los humanos', 'media': 'https://media.rpp.pe/cutter/audio/capital/2019/12/18/54.mp3' , 'origin':'viajeaotradimension' })\" title=\"Reproducir audio\"><i class=\"icon icon-play\"> </i></a>,\n",
       " <a class=\"item-listen play-button\" data-play-id=\"52703\" href=\"#play\" onclick=\"rppplayer.control(this, event, {'method':'play', 'id': 52703,  'title':'Curaciones milagrosas desde la fe', 'media': 'https://media.rpp.pe/cutter/audio/capital/2019/12/17/54.mp3' , 'origin':'viajeaotradimension' })\" title=\"Reproducir audio\"><i class=\"icon icon-play\"> </i></a>,\n",
       " <a class=\"item-listen play-button\" data-play-id=\"52477\" href=\"#play\" onclick=\"rppplayer.control(this, event, {'method':'play', 'id': 52477,  'title':'Contactándose con un ser querido fallecido', 'media': 'https://media.rpp.pe/cutter/audio/capital/2019/12/16/54.mp3' , 'origin':'viajeaotradimension' })\" title=\"Reproducir audio\"><i class=\"icon icon-play\"> </i></a>,\n",
       " <a class=\"item-listen play-button\" data-play-id=\"51960\" href=\"#play\" onclick=\"rppplayer.control(this, event, {'method':'play', 'id': 51960,  'title':'Investigaciones ovni en Perú: los protagonistas', 'media': 'https://media.rpp.pe/cutter/audio/capital/2019/12/13/54.mp3' , 'origin':'viajeaotradimension' })\" title=\"Reproducir audio\"><i class=\"icon icon-play\"> </i></a>,\n",
       " <a class=\"item-listen play-button\" data-play-id=\"51735\" href=\"#play\" onclick=\"rppplayer.control(this, event, {'method':'play', 'id': 51735,  'title':'¿Qué películas de miedo recomiendas para niños?', 'media': 'https://media.rpp.pe/cutter/audio/capital/2019/12/12/54.mp3' , 'origin':'viajeaotradimension' })\" title=\"Reproducir audio\"><i class=\"icon icon-play\"> </i></a>,\n",
       " <a class=\"item-listen play-button\" data-play-id=\"51511\" href=\"#play\" onclick=\"rppplayer.control(this, event, {'method':'play', 'id': 51511,  'title':'Ovnis y tesoros escondidos: los misterios del Cerro San Cristóbal', 'media': 'https://media.rpp.pe/cutter/audio/capital/2019/12/11/54.mp3' , 'origin':'viajeaotradimension' })\" title=\"Reproducir audio\"><i class=\"icon icon-play\"> </i></a>,\n",
       " <a class=\"item-listen play-button\" data-play-id=\"51290\" href=\"#play\" onclick=\"rppplayer.control(this, event, {'method':'play', 'id': 51290,  'title':'Gritos de auxilio desde el más allá: evidencias desde el Cementerio El Ángel', 'media': 'https://media.rpp.pe/cutter/audio/capital/2019/12/10/54.mp3' , 'origin':'viajeaotradimension' })\" title=\"Reproducir audio\"><i class=\"icon icon-play\"> </i></a>,\n",
       " <a class=\"item-listen play-button\" data-play-id=\"51061\" href=\"#play\" onclick=\"rppplayer.control(this, event, {'method':'play', 'id': 51061,  'title':'Actividad paranormal en casa de Chorrillos', 'media': 'https://media.rpp.pe/cutter/audio/capital/2019/12/09/54.mp3' , 'origin':'viajeaotradimension' })\" title=\"Reproducir audio\"><i class=\"icon icon-play\"> </i></a>,\n",
       " <a class=\"item-listen play-button\" data-play-id=\"50538\" href=\"#play\" onclick=\"rppplayer.control(this, event, {'method':'play', 'id': 50538,  'title':'La Mujer Vampiro de Barranco: nuevas evidencias', 'media': 'https://media.rpp.pe/cutter/audio/capital/2019/12/06/54.mp3' , 'origin':'viajeaotradimension' })\" title=\"Reproducir audio\"><i class=\"icon icon-play\"> </i></a>,\n",
       " <a class=\"item-listen play-button\" data-play-id=\"50317\" href=\"#play\" onclick=\"rppplayer.control(this, event, {'method':'play', 'id': 50317,  'title':'La historia real tras Chucky… el muñeco diabólico', 'media': 'https://media.rpp.pe/cutter/audio/capital/2019/12/05/54.mp3' , 'origin':'viajeaotradimension' })\" title=\"Reproducir audio\"><i class=\"icon icon-play\"> </i></a>,\n",
       " <a class=\"item-listen play-button\" data-play-id=\"50095\" href=\"#play\" onclick=\"rppplayer.control(this, event, {'method':'play', 'id': 50095,  'title':'Actividad paranormal en ‘La piscina de los muertos’', 'media': 'https://media.rpp.pe/cutter/audio/capital/2019/12/04/54.mp3' , 'origin':'viajeaotradimension' })\" title=\"Reproducir audio\"><i class=\"icon icon-play\"> </i></a>,\n",
       " <a class=\"item-listen play-button\" data-play-id=\"49872\" href=\"#play\" onclick=\"rppplayer.control(this, event, {'method':'play', 'id': 49872,  'title':'Acosado por extraterrestres: la historia de Óscar Romero', 'media': 'https://media.rpp.pe/cutter/audio/capital/2019/12/03/54.mp3' , 'origin':'viajeaotradimension' })\" title=\"Reproducir audio\"><i class=\"icon icon-play\"> </i></a>,\n",
       " <a class=\"item-listen play-button\" data-play-id=\"49647\" href=\"#play\" onclick=\"rppplayer.control(this, event, {'method':'play', 'id': 49647,  'title':'Viaje a Otra Dimensión con Anthony Choy', 'media': 'https://media.rpp.pe/cutter/audio/capital/2019/12/02/54.mp3' , 'origin':'viajeaotradimension' })\" title=\"Reproducir audio\"><i class=\"icon icon-play\"> </i></a>,\n",
       " <a class=\"item-listen play-button\" data-play-id=\"49122\" href=\"#play\" onclick=\"rppplayer.control(this, event, {'method':'play', 'id': 49122,  'title':'Viaje a Otra Dimensión con el Dr. Anthony Choy', 'media': 'https://media.rpp.pe/cutter/audio/capital/2019/11/29/54.mp3' , 'origin':'viajeaotradimension' })\" title=\"Reproducir audio\"><i class=\"icon icon-play\"> </i></a>,\n",
       " <a class=\"item-listen play-button\" data-play-id=\"48900\" href=\"#play\" onclick=\"rppplayer.control(this, event, {'method':'play', 'id': 48900,  'title':'Viaje a Otra Dimensión con el Dr. Anthony Choy', 'media': 'https://media.rpp.pe/cutter/audio/capital/2019/11/28/54.mp3' , 'origin':'viajeaotradimension' })\" title=\"Reproducir audio\"><i class=\"icon icon-play\"> </i></a>,\n",
       " <a class=\"item-listen play-button\" data-play-id=\"48676\" href=\"#play\" onclick=\"rppplayer.control(this, event, {'method':'play', 'id': 48676,  'title':'Viaje a Otra Dimensión con el Dr. Anthony Choy', 'media': 'https://media.rpp.pe/cutter/audio/capital/2019/11/27/54.mp3' , 'origin':'viajeaotradimension' })\" title=\"Reproducir audio\"><i class=\"icon icon-play\"> </i></a>,\n",
       " <a class=\"item-listen play-button\" data-play-id=\"48453\" href=\"#play\" onclick=\"rppplayer.control(this, event, {'method':'play', 'id': 48453,  'title':'Depredadores Invisibles en la selva peruana: La Historia de José María', 'media': 'https://media.rpp.pe/cutter/audio/capital/2019/11/26/54.mp3' , 'origin':'viajeaotradimension' })\" title=\"Reproducir audio\"><i class=\"icon icon-play\"> </i></a>,\n",
       " <a class=\"item-listen play-button\" data-play-id=\"48230\" href=\"#play\" onclick=\"rppplayer.control(this, event, {'method':'play', 'id': 48230,  'title':'Incubos: Existen los demonios violadores', 'media': 'https://media.rpp.pe/cutter/audio/capital/2019/11/25/54.mp3' , 'origin':'viajeaotradimension' })\" title=\"Reproducir audio\"><i class=\"icon icon-play\"> </i></a>,\n",
       " <a class=\"item-listen play-button\" data-play-id=\"47704\" href=\"#play\" onclick=\"rppplayer.control(this, event, {'method':'play', 'id': 47704,  'title':'Viaje a Otra Dimensión Kids', 'media': 'https://media.rpp.pe/cutter/audio/capital/2019/11/22/54.mp3' , 'origin':'viajeaotradimension' })\" title=\"Reproducir audio\"><i class=\"icon icon-play\"> </i></a>,\n",
       " <a class=\"item-listen play-button\" data-play-id=\"47483\" href=\"#play\" onclick=\"rppplayer.control(this, event, {'method':'play', 'id': 47483,  'title':'Eventos paranormales en discotecas de Arequipa', 'media': 'https://media.rpp.pe/cutter/audio/capital/2019/11/21/54.mp3' , 'origin':'viajeaotradimension' })\" title=\"Reproducir audio\"><i class=\"icon icon-play\"> </i></a>,\n",
       " <a class=\"item-listen play-button\" data-play-id=\"47263\" href=\"#play\" onclick=\"rppplayer.control(this, event, {'method':'play', 'id': 47263,  'title':'Encuentros con extraterrestres: escritura alienígena', 'media': 'https://media.rpp.pe/cutter/audio/capital/2019/11/20/54.mp3' , 'origin':'viajeaotradimension' })\" title=\"Reproducir audio\"><i class=\"icon icon-play\"> </i></a>,\n",
       " <a class=\"item-listen play-button\" data-play-id=\"47031\" href=\"#play\" onclick=\"rppplayer.control(this, event, {'method':'play', 'id': 47031,  'title':'Muñecos poseidos: la terrorífica historia de Howdy Doddy', 'media': 'https://media.rpp.pe/cutter/audio/capital/2019/11/19/54.mp3' , 'origin':'viajeaotradimension' })\" title=\"Reproducir audio\"><i class=\"icon icon-play\"> </i></a>,\n",
       " <a class=\"item-listen play-button\" data-play-id=\"46807\" href=\"#play\" onclick=\"rppplayer.control(this, event, {'method':'play', 'id': 46807,  'title':'Reptilianos ¿están camuflados entre nosotros?', 'media': 'https://media.rpp.pe/cutter/audio/capital/2019/11/18/54.mp3' , 'origin':'viajeaotradimension' })\" title=\"Reproducir audio\"><i class=\"icon icon-play\"> </i></a>,\n",
       " <a class=\"item-listen play-button\" data-play-id=\"46275\" href=\"#play\" onclick=\"rppplayer.control(this, event, {'method':'play', 'id': 46275,  'title':'Viaje a Otra Dimensión: Especial niños', 'media': 'https://media.rpp.pe/cutter/audio/capital/crop/2019/11/15/46275.mp3' , 'origin':'viajeaotradimension' })\" title=\"Reproducir audio\"><i class=\"icon icon-play\"> </i></a>,\n",
       " <a class=\"item-listen play-button\" data-play-id=\"46057\" href=\"#play\" onclick=\"rppplayer.control(this, event, {'method':'play', 'id': 46057,  'title':'Acoso mortal: lo que nos trajimos... del cementerio”', 'media': 'https://media.rpp.pe/cutter/audio/capital/2019/11/14/54.mp3' , 'origin':'viajeaotradimension' })\" title=\"Reproducir audio\"><i class=\"icon icon-play\"> </i></a>,\n",
       " <a class=\"item-listen play-button\" data-play-id=\"45834\" href=\"#play\" onclick=\"rppplayer.control(this, event, {'method':'play', 'id': 45834,  'title':'Cementerio El Ángel… los sorprendentes hallazgos', 'media': 'https://media.rpp.pe/cutter/audio/capital/2019/11/13/54.mp3' , 'origin':'viajeaotradimension' })\" title=\"Reproducir audio\"><i class=\"icon icon-play\"> </i></a>,\n",
       " <a class=\"item-listen play-button\" data-play-id=\"45609\" href=\"#play\" onclick=\"rppplayer.control(this, event, {'method':'play', 'id': 45609,  'title':'La ‘Perricholi’: actividad paranormal en su casa de Huánuco ', 'media': 'https://media.rpp.pe/cutter/audio/capital/2019/11/12/54.mp3' , 'origin':'viajeaotradimension' })\" title=\"Reproducir audio\"><i class=\"icon icon-play\"> </i></a>]"
      ]
     },
     "execution_count": 140,
     "metadata": {},
     "output_type": "execute_result"
    }
   ],
   "source": [
    "'''You can filter multiple attributes at once by passing in more than one keyword argument:\n",
    "soup.find_all(href=re.compile(\"elsie\"), id='link1')\n",
    "# [<a class=\"sister\" href=\"http://example.com/elsie\" id=\"link1\">three</a>]'''\n",
    "#table = box.findAll('a','item-listen play-button') #i just want the href informationand description\n",
    "table = box.find_all(href=re.compile('#play'))"
   ]
  },
  {
   "cell_type": "code",
   "execution_count": 138,
   "metadata": {},
   "outputs": [
    {
     "name": "stdout",
     "output_type": "stream",
     "text": [
      "https://media.rpp.pe/cutter/audio/capital/2019/12/23/54.mp3\n",
      "https://media.rpp.pe/cutter/audio/capital/2019/12/20/54.mp3\n",
      "https://media.rpp.pe/cutter/audio/capital/2019/12/19/54.mp3\n",
      "https://media.rpp.pe/cutter/audio/capital/2019/12/18/54.mp3\n",
      "https://media.rpp.pe/cutter/audio/capital/2019/12/17/54.mp3\n",
      "https://media.rpp.pe/cutter/audio/capital/2019/12/16/54.mp3\n",
      "https://media.rpp.pe/cutter/audio/capital/2019/12/13/54.mp3\n",
      "https://media.rpp.pe/cutter/audio/capital/2019/12/12/54.mp3\n",
      "https://media.rpp.pe/cutter/audio/capital/2019/12/11/54.mp3\n",
      "https://media.rpp.pe/cutter/audio/capital/2019/12/10/54.mp3\n",
      "https://media.rpp.pe/cutter/audio/capital/2019/12/09/54.mp3\n",
      "https://media.rpp.pe/cutter/audio/capital/2019/12/06/54.mp3\n",
      "https://media.rpp.pe/cutter/audio/capital/2019/12/05/54.mp3\n",
      "https://media.rpp.pe/cutter/audio/capital/2019/12/04/54.mp3\n",
      "https://media.rpp.pe/cutter/audio/capital/2019/12/03/54.mp3\n",
      "https://media.rpp.pe/cutter/audio/capital/2019/12/02/54.mp3\n",
      "https://media.rpp.pe/cutter/audio/capital/2019/11/29/54.mp3\n",
      "https://media.rpp.pe/cutter/audio/capital/2019/11/28/54.mp3\n",
      "https://media.rpp.pe/cutter/audio/capital/2019/11/27/54.mp3\n",
      "https://media.rpp.pe/cutter/audio/capital/2019/11/26/54.mp3\n",
      "https://media.rpp.pe/cutter/audio/capital/2019/11/25/54.mp3\n",
      "https://media.rpp.pe/cutter/audio/capital/2019/11/22/54.mp3\n",
      "https://media.rpp.pe/cutter/audio/capital/2019/11/21/54.mp3\n",
      "https://media.rpp.pe/cutter/audio/capital/2019/11/20/54.mp3\n",
      "https://media.rpp.pe/cutter/audio/capital/2019/11/19/54.mp3\n",
      "https://media.rpp.pe/cutter/audio/capital/2019/11/18/54.mp3\n",
      "https://media.rpp.pe/cutter/audio/capital/crop/2019/11/15/46275.mp3\n",
      "https://media.rpp.pe/cutter/audio/capital/2019/11/14/54.mp3\n",
      "https://media.rpp.pe/cutter/audio/capital/2019/11/13/54.mp3\n",
      "https://media.rpp.pe/cutter/audio/capital/2019/11/12/54.mp3\n"
     ]
    }
   ],
   "source": [
    "#obteniendo links\n",
    "links = []\n",
    "for a in table:\n",
    "    click = a.get('onclick') #getting onclick text\n",
    "    if click != None: #dont do anything\n",
    "        x= click.split(\"'media': '\")  #splits the text with this coincidence 'media': '\n",
    "        y = x[1].split(\"' , '\") #splits the text with this coincidence ' , ' in order to obtain the url\n",
    "        #print(y[0])\n",
    "        links.append(y[0]) #adding urls to list"
   ]
  },
  {
   "cell_type": "code",
   "execution_count": 139,
   "metadata": {},
   "outputs": [
    {
     "data": {
      "text/plain": [
       "['https://media.rpp.pe/cutter/audio/capital/2019/12/23/54.mp3',\n",
       " 'https://media.rpp.pe/cutter/audio/capital/2019/12/20/54.mp3',\n",
       " 'https://media.rpp.pe/cutter/audio/capital/2019/12/19/54.mp3',\n",
       " 'https://media.rpp.pe/cutter/audio/capital/2019/12/18/54.mp3',\n",
       " 'https://media.rpp.pe/cutter/audio/capital/2019/12/17/54.mp3',\n",
       " 'https://media.rpp.pe/cutter/audio/capital/2019/12/16/54.mp3',\n",
       " 'https://media.rpp.pe/cutter/audio/capital/2019/12/13/54.mp3',\n",
       " 'https://media.rpp.pe/cutter/audio/capital/2019/12/12/54.mp3',\n",
       " 'https://media.rpp.pe/cutter/audio/capital/2019/12/11/54.mp3',\n",
       " 'https://media.rpp.pe/cutter/audio/capital/2019/12/10/54.mp3',\n",
       " 'https://media.rpp.pe/cutter/audio/capital/2019/12/09/54.mp3',\n",
       " 'https://media.rpp.pe/cutter/audio/capital/2019/12/06/54.mp3',\n",
       " 'https://media.rpp.pe/cutter/audio/capital/2019/12/05/54.mp3',\n",
       " 'https://media.rpp.pe/cutter/audio/capital/2019/12/04/54.mp3',\n",
       " 'https://media.rpp.pe/cutter/audio/capital/2019/12/03/54.mp3',\n",
       " 'https://media.rpp.pe/cutter/audio/capital/2019/12/02/54.mp3',\n",
       " 'https://media.rpp.pe/cutter/audio/capital/2019/11/29/54.mp3',\n",
       " 'https://media.rpp.pe/cutter/audio/capital/2019/11/28/54.mp3',\n",
       " 'https://media.rpp.pe/cutter/audio/capital/2019/11/27/54.mp3',\n",
       " 'https://media.rpp.pe/cutter/audio/capital/2019/11/26/54.mp3',\n",
       " 'https://media.rpp.pe/cutter/audio/capital/2019/11/25/54.mp3',\n",
       " 'https://media.rpp.pe/cutter/audio/capital/2019/11/22/54.mp3',\n",
       " 'https://media.rpp.pe/cutter/audio/capital/2019/11/21/54.mp3',\n",
       " 'https://media.rpp.pe/cutter/audio/capital/2019/11/20/54.mp3',\n",
       " 'https://media.rpp.pe/cutter/audio/capital/2019/11/19/54.mp3',\n",
       " 'https://media.rpp.pe/cutter/audio/capital/2019/11/18/54.mp3',\n",
       " 'https://media.rpp.pe/cutter/audio/capital/crop/2019/11/15/46275.mp3',\n",
       " 'https://media.rpp.pe/cutter/audio/capital/2019/11/14/54.mp3',\n",
       " 'https://media.rpp.pe/cutter/audio/capital/2019/11/13/54.mp3',\n",
       " 'https://media.rpp.pe/cutter/audio/capital/2019/11/12/54.mp3']"
      ]
     },
     "execution_count": 139,
     "metadata": {},
     "output_type": "execute_result"
    }
   ],
   "source": [
    "links"
   ]
  }
 ],
 "metadata": {
  "kernelspec": {
   "display_name": "Python 3",
   "language": "python",
   "name": "python3"
  },
  "language_info": {
   "codemirror_mode": {
    "name": "ipython",
    "version": 3
   },
   "file_extension": ".py",
   "mimetype": "text/x-python",
   "name": "python",
   "nbconvert_exporter": "python",
   "pygments_lexer": "ipython3",
   "version": "3.7.5"
  }
 },
 "nbformat": 4,
 "nbformat_minor": 2
}
