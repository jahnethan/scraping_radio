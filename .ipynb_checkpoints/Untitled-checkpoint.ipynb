{
 "cells": [
  {
   "cell_type": "code",
   "execution_count": 3,
   "metadata": {},
   "outputs": [],
   "source": [
    "from bs4 import BeautifulSoup #importing beautifulsoup"
   ]
  },
  {
   "cell_type": "code",
   "execution_count": 126,
   "metadata": {},
   "outputs": [],
   "source": [
    "import requests\n",
    "import re"
   ]
  },
  {
   "cell_type": "code",
   "execution_count": 127,
   "metadata": {},
   "outputs": [],
   "source": [
    "page  = requests.get(\"https://radio.capital.pe/programas/viajeaotradimension\")"
   ]
  },
  {
   "cell_type": "code",
   "execution_count": 128,
   "metadata": {},
   "outputs": [],
   "source": [
    "soup= BeautifulSoup(page.content, 'html.parser')"
   ]
  },
  {
   "cell_type": "code",
   "execution_count": 129,
   "metadata": {},
   "outputs": [],
   "source": [
    "box = soup.find(class_='box-mod') #finding the box where there are the information"
   ]
  },
  {
   "cell_type": "code",
   "execution_count": 159,
   "metadata": {},
   "outputs": [
    {
     "name": "stdout",
     "output_type": "stream",
     "text": [
      "Episodio del 23/12/2019\n",
      "Episodio del 20/12/2019\n",
      "Episodio del 19/12/2019\n",
      "Episodio del 18/12/2019\n",
      "Episodio del 17/12/2019\n",
      "Episodio del 16/12/2019\n",
      "Episodio del 13/12/2019\n",
      "Episodio del 12/12/2019\n",
      "Episodio del 11/12/2019\n",
      "Episodio del 10/12/2019\n",
      "Episodio del 09/12/2019\n",
      "Episodio del 06/12/2019\n",
      "Episodio del 05/12/2019\n",
      "Episodio del 04/12/2019\n",
      "Episodio del 03/12/2019\n",
      "Episodio del 02/12/2019\n",
      "Episodio del 29/11/2019\n",
      "Episodio del 28/11/2019\n",
      "Episodio del 27/11/2019\n",
      "Episodio del 26/11/2019\n",
      "Episodio del 25/11/2019\n",
      "Episodio del 22/11/2019\n",
      "Episodio del 21/11/2019\n",
      "Episodio del 20/11/2019\n",
      "Episodio del 19/11/2019\n",
      "Episodio del 18/11/2019\n",
      "Episodio del 15/11/2019\n",
      "Episodio del 14/11/2019\n",
      "Episodio del 13/11/2019\n",
      "Episodio del 12/11/2019\n"
     ]
    }
   ],
   "source": [
    "date = []\n",
    "info = box.find_all('span','info')\n",
    "for ifo in info:\n",
    "    print((ifo.get_text()))\n",
    "    date.append(ifo.get_text())"
   ]
  },
  {
   "cell_type": "code",
   "execution_count": 150,
   "metadata": {},
   "outputs": [
    {
     "name": "stdout",
     "output_type": "stream",
     "text": [
      "[<span class=\"info\">Episodio del 23/12/2019</span>, <span class=\"info\">Episodio del 20/12/2019</span>, <span class=\"info\">Episodio del 19/12/2019</span>, <span class=\"info\">Episodio del 18/12/2019</span>, <span class=\"info\">Episodio del 17/12/2019</span>, <span class=\"info\">Episodio del 16/12/2019</span>, <span class=\"info\">Episodio del 13/12/2019</span>, <span class=\"info\">Episodio del 12/12/2019</span>, <span class=\"info\">Episodio del 11/12/2019</span>, <span class=\"info\">Episodio del 10/12/2019</span>, <span class=\"info\">Episodio del 09/12/2019</span>, <span class=\"info\">Episodio del 06/12/2019</span>, <span class=\"info\">Episodio del 05/12/2019</span>, <span class=\"info\">Episodio del 04/12/2019</span>, <span class=\"info\">Episodio del 03/12/2019</span>, <span class=\"info\">Episodio del 02/12/2019</span>, <span class=\"info\">Episodio del 29/11/2019</span>, <span class=\"info\">Episodio del 28/11/2019</span>, <span class=\"info\">Episodio del 27/11/2019</span>, <span class=\"info\">Episodio del 26/11/2019</span>, <span class=\"info\">Episodio del 25/11/2019</span>, <span class=\"info\">Episodio del 22/11/2019</span>, <span class=\"info\">Episodio del 21/11/2019</span>, <span class=\"info\">Episodio del 20/11/2019</span>, <span class=\"info\">Episodio del 19/11/2019</span>, <span class=\"info\">Episodio del 18/11/2019</span>, <span class=\"info\">Episodio del 15/11/2019</span>, <span class=\"info\">Episodio del 14/11/2019</span>, <span class=\"info\">Episodio del 13/11/2019</span>, <span class=\"info\">Episodio del 12/11/2019</span>]\n"
     ]
    }
   ],
   "source": [
    "print(info)"
   ]
  },
  {
   "cell_type": "code",
   "execution_count": 140,
   "metadata": {},
   "outputs": [
    {
     "data": {
      "text/plain": [
       "[<a class=\"item-listen play-button\" data-play-id=\"53885\" href=\"#play\" onclick=\"rppplayer.control(this, event, {'method':'play', 'id': 53885,  'title':'Actividad paranormal en casa de Miraflores', 'media': 'https://media.rpp.pe/cutter/audio/capital/2019/12/23/54.mp3' , 'origin':'viajeaotradimension' })\" title=\"Reproducir audio\"><i class=\"icon icon-play\"> </i></a>,\n",
       " <a class=\"item-listen play-button\" data-play-id=\"53361\" href=\"#play\" onclick=\"rppplayer.control(this, event, {'method':'play', 'id': 53361,  'title':'Encuentros cercanos con extraterrestres', 'media': 'https://media.rpp.pe/cutter/audio/capital/2019/12/20/54.mp3' , 'origin':'viajeaotradimension' })\" title=\"Reproducir audio\"><i class=\"icon icon-play\"> </i></a>,\n",
       " <a class=\"item-listen play-button\" data-play-id=\"53147\" href=\"#play\" onclick=\"rppplayer.control(this, event, {'method':'play', 'id': 53147,  'title':'Presencia extraterrestre en el arte mundial', 'media': 'https://media.rpp.pe/cutter/audio/capital/2019/12/19/54.mp3' , 'origin':'viajeaotradimension' })\" title=\"Reproducir audio\"><i class=\"icon icon-play\"> </i></a>,\n",
       " <a class=\"item-listen play-button\" data-play-id=\"52928\" href=\"#play\" onclick=\"rppplayer.control(this, event, {'method':'play', 'id': 52928,  'title':'Razas extraterrestres que vivirían camufladas entre los humanos', 'media': 'https://media.rpp.pe/cutter/audio/capital/2019/12/18/54.mp3' , 'origin':'viajeaotradimension' })\" title=\"Reproducir audio\"><i class=\"icon icon-play\"> </i></a>,\n",
       " <a class=\"item-listen play-button\" data-play-id=\"52703\" href=\"#play\" onclick=\"rppplayer.control(this, event, {'method':'play', 'id': 52703,  'title':'Curaciones milagrosas desde la fe', 'media': 'https://media.rpp.pe/cutter/audio/capital/2019/12/17/54.mp3' , 'origin':'viajeaotradimension' })\" title=\"Reproducir audio\"><i class=\"icon icon-play\"> </i></a>,\n",
       " <a class=\"item-listen play-button\" data-play-id=\"52477\" href=\"#play\" onclick=\"rppplayer.control(this, event, {'method':'play', 'id': 52477,  'title':'Contactándose con un ser querido fallecido', 'media': 'https://media.rpp.pe/cutter/audio/capital/2019/12/16/54.mp3' , 'origin':'viajeaotradimension' })\" title=\"Reproducir audio\"><i class=\"icon icon-play\"> </i></a>,\n",
       " <a class=\"item-listen play-button\" data-play-id=\"51960\" href=\"#play\" onclick=\"rppplayer.control(this, event, {'method':'play', 'id': 51960,  'title':'Investigaciones ovni en Perú: los protagonistas', 'media': 'https://media.rpp.pe/cutter/audio/capital/2019/12/13/54.mp3' , 'origin':'viajeaotradimension' })\" title=\"Reproducir audio\"><i class=\"icon icon-play\"> </i></a>,\n",
       " <a class=\"item-listen play-button\" data-play-id=\"51735\" href=\"#play\" onclick=\"rppplayer.control(this, event, {'method':'play', 'id': 51735,  'title':'¿Qué películas de miedo recomiendas para niños?', 'media': 'https://media.rpp.pe/cutter/audio/capital/2019/12/12/54.mp3' , 'origin':'viajeaotradimension' })\" title=\"Reproducir audio\"><i class=\"icon icon-play\"> </i></a>,\n",
       " <a class=\"item-listen play-button\" data-play-id=\"51511\" href=\"#play\" onclick=\"rppplayer.control(this, event, {'method':'play', 'id': 51511,  'title':'Ovnis y tesoros escondidos: los misterios del Cerro San Cristóbal', 'media': 'https://media.rpp.pe/cutter/audio/capital/2019/12/11/54.mp3' , 'origin':'viajeaotradimension' })\" title=\"Reproducir audio\"><i class=\"icon icon-play\"> </i></a>,\n",
       " <a class=\"item-listen play-button\" data-play-id=\"51290\" href=\"#play\" onclick=\"rppplayer.control(this, event, {'method':'play', 'id': 51290,  'title':'Gritos de auxilio desde el más allá: evidencias desde el Cementerio El Ángel', 'media': 'https://media.rpp.pe/cutter/audio/capital/2019/12/10/54.mp3' , 'origin':'viajeaotradimension' })\" title=\"Reproducir audio\"><i class=\"icon icon-play\"> </i></a>,\n",
       " <a class=\"item-listen play-button\" data-play-id=\"51061\" href=\"#play\" onclick=\"rppplayer.control(this, event, {'method':'play', 'id': 51061,  'title':'Actividad paranormal en casa de Chorrillos', 'media': 'https://media.rpp.pe/cutter/audio/capital/2019/12/09/54.mp3' , 'origin':'viajeaotradimension' })\" title=\"Reproducir audio\"><i class=\"icon icon-play\"> </i></a>,\n",
       " <a class=\"item-listen play-button\" data-play-id=\"50538\" href=\"#play\" onclick=\"rppplayer.control(this, event, {'method':'play', 'id': 50538,  'title':'La Mujer Vampiro de Barranco: nuevas evidencias', 'media': 'https://media.rpp.pe/cutter/audio/capital/2019/12/06/54.mp3' , 'origin':'viajeaotradimension' })\" title=\"Reproducir audio\"><i class=\"icon icon-play\"> </i></a>,\n",
       " <a class=\"item-listen play-button\" data-play-id=\"50317\" href=\"#play\" onclick=\"rppplayer.control(this, event, {'method':'play', 'id': 50317,  'title':'La historia real tras Chucky… el muñeco diabólico', 'media': 'https://media.rpp.pe/cutter/audio/capital/2019/12/05/54.mp3' , 'origin':'viajeaotradimension' })\" title=\"Reproducir audio\"><i class=\"icon icon-play\"> </i></a>,\n",
       " <a class=\"item-listen play-button\" data-play-id=\"50095\" href=\"#play\" onclick=\"rppplayer.control(this, event, {'method':'play', 'id': 50095,  'title':'Actividad paranormal en ‘La piscina de los muertos’', 'media': 'https://media.rpp.pe/cutter/audio/capital/2019/12/04/54.mp3' , 'origin':'viajeaotradimension' })\" title=\"Reproducir audio\"><i class=\"icon icon-play\"> </i></a>,\n",
       " <a class=\"item-listen play-button\" data-play-id=\"49872\" href=\"#play\" onclick=\"rppplayer.control(this, event, {'method':'play', 'id': 49872,  'title':'Acosado por extraterrestres: la historia de Óscar Romero', 'media': 'https://media.rpp.pe/cutter/audio/capital/2019/12/03/54.mp3' , 'origin':'viajeaotradimension' })\" title=\"Reproducir audio\"><i class=\"icon icon-play\"> </i></a>,\n",
       " <a class=\"item-listen play-button\" data-play-id=\"49647\" href=\"#play\" onclick=\"rppplayer.control(this, event, {'method':'play', 'id': 49647,  'title':'Viaje a Otra Dimensión con Anthony Choy', 'media': 'https://media.rpp.pe/cutter/audio/capital/2019/12/02/54.mp3' , 'origin':'viajeaotradimension' })\" title=\"Reproducir audio\"><i class=\"icon icon-play\"> </i></a>,\n",
       " <a class=\"item-listen play-button\" data-play-id=\"49122\" href=\"#play\" onclick=\"rppplayer.control(this, event, {'method':'play', 'id': 49122,  'title':'Viaje a Otra Dimensión con el Dr. Anthony Choy', 'media': 'https://media.rpp.pe/cutter/audio/capital/2019/11/29/54.mp3' , 'origin':'viajeaotradimension' })\" title=\"Reproducir audio\"><i class=\"icon icon-play\"> </i></a>,\n",
       " <a class=\"item-listen play-button\" data-play-id=\"48900\" href=\"#play\" onclick=\"rppplayer.control(this, event, {'method':'play', 'id': 48900,  'title':'Viaje a Otra Dimensión con el Dr. Anthony Choy', 'media': 'https://media.rpp.pe/cutter/audio/capital/2019/11/28/54.mp3' , 'origin':'viajeaotradimension' })\" title=\"Reproducir audio\"><i class=\"icon icon-play\"> </i></a>,\n",
       " <a class=\"item-listen play-button\" data-play-id=\"48676\" href=\"#play\" onclick=\"rppplayer.control(this, event, {'method':'play', 'id': 48676,  'title':'Viaje a Otra Dimensión con el Dr. Anthony Choy', 'media': 'https://media.rpp.pe/cutter/audio/capital/2019/11/27/54.mp3' , 'origin':'viajeaotradimension' })\" title=\"Reproducir audio\"><i class=\"icon icon-play\"> </i></a>,\n",
       " <a class=\"item-listen play-button\" data-play-id=\"48453\" href=\"#play\" onclick=\"rppplayer.control(this, event, {'method':'play', 'id': 48453,  'title':'Depredadores Invisibles en la selva peruana: La Historia de José María', 'media': 'https://media.rpp.pe/cutter/audio/capital/2019/11/26/54.mp3' , 'origin':'viajeaotradimension' })\" title=\"Reproducir audio\"><i class=\"icon icon-play\"> </i></a>,\n",
       " <a class=\"item-listen play-button\" data-play-id=\"48230\" href=\"#play\" onclick=\"rppplayer.control(this, event, {'method':'play', 'id': 48230,  'title':'Incubos: Existen los demonios violadores', 'media': 'https://media.rpp.pe/cutter/audio/capital/2019/11/25/54.mp3' , 'origin':'viajeaotradimension' })\" title=\"Reproducir audio\"><i class=\"icon icon-play\"> </i></a>,\n",
       " <a class=\"item-listen play-button\" data-play-id=\"47704\" href=\"#play\" onclick=\"rppplayer.control(this, event, {'method':'play', 'id': 47704,  'title':'Viaje a Otra Dimensión Kids', 'media': 'https://media.rpp.pe/cutter/audio/capital/2019/11/22/54.mp3' , 'origin':'viajeaotradimension' })\" title=\"Reproducir audio\"><i class=\"icon icon-play\"> </i></a>,\n",
       " <a class=\"item-listen play-button\" data-play-id=\"47483\" href=\"#play\" onclick=\"rppplayer.control(this, event, {'method':'play', 'id': 47483,  'title':'Eventos paranormales en discotecas de Arequipa', 'media': 'https://media.rpp.pe/cutter/audio/capital/2019/11/21/54.mp3' , 'origin':'viajeaotradimension' })\" title=\"Reproducir audio\"><i class=\"icon icon-play\"> </i></a>,\n",
       " <a class=\"item-listen play-button\" data-play-id=\"47263\" href=\"#play\" onclick=\"rppplayer.control(this, event, {'method':'play', 'id': 47263,  'title':'Encuentros con extraterrestres: escritura alienígena', 'media': 'https://media.rpp.pe/cutter/audio/capital/2019/11/20/54.mp3' , 'origin':'viajeaotradimension' })\" title=\"Reproducir audio\"><i class=\"icon icon-play\"> </i></a>,\n",
       " <a class=\"item-listen play-button\" data-play-id=\"47031\" href=\"#play\" onclick=\"rppplayer.control(this, event, {'method':'play', 'id': 47031,  'title':'Muñecos poseidos: la terrorífica historia de Howdy Doddy', 'media': 'https://media.rpp.pe/cutter/audio/capital/2019/11/19/54.mp3' , 'origin':'viajeaotradimension' })\" title=\"Reproducir audio\"><i class=\"icon icon-play\"> </i></a>,\n",
       " <a class=\"item-listen play-button\" data-play-id=\"46807\" href=\"#play\" onclick=\"rppplayer.control(this, event, {'method':'play', 'id': 46807,  'title':'Reptilianos ¿están camuflados entre nosotros?', 'media': 'https://media.rpp.pe/cutter/audio/capital/2019/11/18/54.mp3' , 'origin':'viajeaotradimension' })\" title=\"Reproducir audio\"><i class=\"icon icon-play\"> </i></a>,\n",
       " <a class=\"item-listen play-button\" data-play-id=\"46275\" href=\"#play\" onclick=\"rppplayer.control(this, event, {'method':'play', 'id': 46275,  'title':'Viaje a Otra Dimensión: Especial niños', 'media': 'https://media.rpp.pe/cutter/audio/capital/crop/2019/11/15/46275.mp3' , 'origin':'viajeaotradimension' })\" title=\"Reproducir audio\"><i class=\"icon icon-play\"> </i></a>,\n",
       " <a class=\"item-listen play-button\" data-play-id=\"46057\" href=\"#play\" onclick=\"rppplayer.control(this, event, {'method':'play', 'id': 46057,  'title':'Acoso mortal: lo que nos trajimos... del cementerio”', 'media': 'https://media.rpp.pe/cutter/audio/capital/2019/11/14/54.mp3' , 'origin':'viajeaotradimension' })\" title=\"Reproducir audio\"><i class=\"icon icon-play\"> </i></a>,\n",
       " <a class=\"item-listen play-button\" data-play-id=\"45834\" href=\"#play\" onclick=\"rppplayer.control(this, event, {'method':'play', 'id': 45834,  'title':'Cementerio El Ángel… los sorprendentes hallazgos', 'media': 'https://media.rpp.pe/cutter/audio/capital/2019/11/13/54.mp3' , 'origin':'viajeaotradimension' })\" title=\"Reproducir audio\"><i class=\"icon icon-play\"> </i></a>,\n",
       " <a class=\"item-listen play-button\" data-play-id=\"45609\" href=\"#play\" onclick=\"rppplayer.control(this, event, {'method':'play', 'id': 45609,  'title':'La ‘Perricholi’: actividad paranormal en su casa de Huánuco ', 'media': 'https://media.rpp.pe/cutter/audio/capital/2019/11/12/54.mp3' , 'origin':'viajeaotradimension' })\" title=\"Reproducir audio\"><i class=\"icon icon-play\"> </i></a>]"
      ]
     },
     "execution_count": 140,
     "metadata": {},
     "output_type": "execute_result"
    }
   ],
   "source": [
    "'''You can filter multiple attributes at once by passing in more than one keyword argument:\n",
    "soup.find_all(href=re.compile(\"elsie\"), id='link1')\n",
    "# [<a class=\"sister\" href=\"http://example.com/elsie\" id=\"link1\">three</a>]'''\n",
    "#table = box.findAll('a','item-listen play-button') #i just want the href informationand description\n",
    "table = box.find_all(href=re.compile('#play'))"
   ]
  },
  {
   "cell_type": "code",
   "execution_count": 138,
   "metadata": {},
   "outputs": [
    {
     "name": "stdout",
     "output_type": "stream",
     "text": [
      "https://media.rpp.pe/cutter/audio/capital/2019/12/23/54.mp3\n",
      "https://media.rpp.pe/cutter/audio/capital/2019/12/20/54.mp3\n",
      "https://media.rpp.pe/cutter/audio/capital/2019/12/19/54.mp3\n",
      "https://media.rpp.pe/cutter/audio/capital/2019/12/18/54.mp3\n",
      "https://media.rpp.pe/cutter/audio/capital/2019/12/17/54.mp3\n",
      "https://media.rpp.pe/cutter/audio/capital/2019/12/16/54.mp3\n",
      "https://media.rpp.pe/cutter/audio/capital/2019/12/13/54.mp3\n",
      "https://media.rpp.pe/cutter/audio/capital/2019/12/12/54.mp3\n",
      "https://media.rpp.pe/cutter/audio/capital/2019/12/11/54.mp3\n",
      "https://media.rpp.pe/cutter/audio/capital/2019/12/10/54.mp3\n",
      "https://media.rpp.pe/cutter/audio/capital/2019/12/09/54.mp3\n",
      "https://media.rpp.pe/cutter/audio/capital/2019/12/06/54.mp3\n",
      "https://media.rpp.pe/cutter/audio/capital/2019/12/05/54.mp3\n",
      "https://media.rpp.pe/cutter/audio/capital/2019/12/04/54.mp3\n",
      "https://media.rpp.pe/cutter/audio/capital/2019/12/03/54.mp3\n",
      "https://media.rpp.pe/cutter/audio/capital/2019/12/02/54.mp3\n",
      "https://media.rpp.pe/cutter/audio/capital/2019/11/29/54.mp3\n",
      "https://media.rpp.pe/cutter/audio/capital/2019/11/28/54.mp3\n",
      "https://media.rpp.pe/cutter/audio/capital/2019/11/27/54.mp3\n",
      "https://media.rpp.pe/cutter/audio/capital/2019/11/26/54.mp3\n",
      "https://media.rpp.pe/cutter/audio/capital/2019/11/25/54.mp3\n",
      "https://media.rpp.pe/cutter/audio/capital/2019/11/22/54.mp3\n",
      "https://media.rpp.pe/cutter/audio/capital/2019/11/21/54.mp3\n",
      "https://media.rpp.pe/cutter/audio/capital/2019/11/20/54.mp3\n",
      "https://media.rpp.pe/cutter/audio/capital/2019/11/19/54.mp3\n",
      "https://media.rpp.pe/cutter/audio/capital/2019/11/18/54.mp3\n",
      "https://media.rpp.pe/cutter/audio/capital/crop/2019/11/15/46275.mp3\n",
      "https://media.rpp.pe/cutter/audio/capital/2019/11/14/54.mp3\n",
      "https://media.rpp.pe/cutter/audio/capital/2019/11/13/54.mp3\n",
      "https://media.rpp.pe/cutter/audio/capital/2019/11/12/54.mp3\n"
     ]
    }
   ],
   "source": [
    "#obteniendo links\n",
    "links = []\n",
    "for a in table:\n",
    "    click = a.get('onclick') #getting onclick text\n",
    "    if click != None: #dont do anything\n",
    "        x= click.split(\"'media': '\")  #splits the text with this coincidence 'media': '\n",
    "        y = x[1].split(\"' , '\") #splits the text with this coincidence ' , ' in order to obtain the url\n",
    "        #print(y[0])\n",
    "        links.append(y[0]) #adding urls to list"
   ]
  },
  {
   "cell_type": "code",
   "execution_count": 139,
   "metadata": {},
   "outputs": [
    {
     "data": {
      "text/plain": [
       "['https://media.rpp.pe/cutter/audio/capital/2019/12/23/54.mp3',\n",
       " 'https://media.rpp.pe/cutter/audio/capital/2019/12/20/54.mp3',\n",
       " 'https://media.rpp.pe/cutter/audio/capital/2019/12/19/54.mp3',\n",
       " 'https://media.rpp.pe/cutter/audio/capital/2019/12/18/54.mp3',\n",
       " 'https://media.rpp.pe/cutter/audio/capital/2019/12/17/54.mp3',\n",
       " 'https://media.rpp.pe/cutter/audio/capital/2019/12/16/54.mp3',\n",
       " 'https://media.rpp.pe/cutter/audio/capital/2019/12/13/54.mp3',\n",
       " 'https://media.rpp.pe/cutter/audio/capital/2019/12/12/54.mp3',\n",
       " 'https://media.rpp.pe/cutter/audio/capital/2019/12/11/54.mp3',\n",
       " 'https://media.rpp.pe/cutter/audio/capital/2019/12/10/54.mp3',\n",
       " 'https://media.rpp.pe/cutter/audio/capital/2019/12/09/54.mp3',\n",
       " 'https://media.rpp.pe/cutter/audio/capital/2019/12/06/54.mp3',\n",
       " 'https://media.rpp.pe/cutter/audio/capital/2019/12/05/54.mp3',\n",
       " 'https://media.rpp.pe/cutter/audio/capital/2019/12/04/54.mp3',\n",
       " 'https://media.rpp.pe/cutter/audio/capital/2019/12/03/54.mp3',\n",
       " 'https://media.rpp.pe/cutter/audio/capital/2019/12/02/54.mp3',\n",
       " 'https://media.rpp.pe/cutter/audio/capital/2019/11/29/54.mp3',\n",
       " 'https://media.rpp.pe/cutter/audio/capital/2019/11/28/54.mp3',\n",
       " 'https://media.rpp.pe/cutter/audio/capital/2019/11/27/54.mp3',\n",
       " 'https://media.rpp.pe/cutter/audio/capital/2019/11/26/54.mp3',\n",
       " 'https://media.rpp.pe/cutter/audio/capital/2019/11/25/54.mp3',\n",
       " 'https://media.rpp.pe/cutter/audio/capital/2019/11/22/54.mp3',\n",
       " 'https://media.rpp.pe/cutter/audio/capital/2019/11/21/54.mp3',\n",
       " 'https://media.rpp.pe/cutter/audio/capital/2019/11/20/54.mp3',\n",
       " 'https://media.rpp.pe/cutter/audio/capital/2019/11/19/54.mp3',\n",
       " 'https://media.rpp.pe/cutter/audio/capital/2019/11/18/54.mp3',\n",
       " 'https://media.rpp.pe/cutter/audio/capital/crop/2019/11/15/46275.mp3',\n",
       " 'https://media.rpp.pe/cutter/audio/capital/2019/11/14/54.mp3',\n",
       " 'https://media.rpp.pe/cutter/audio/capital/2019/11/13/54.mp3',\n",
       " 'https://media.rpp.pe/cutter/audio/capital/2019/11/12/54.mp3']"
      ]
     },
     "execution_count": 139,
     "metadata": {},
     "output_type": "execute_result"
    }
   ],
   "source": [
    "links"
   ]
  }
 ],
 "metadata": {
  "kernelspec": {
   "display_name": "Python 3",
   "language": "python",
   "name": "python3"
  },
  "language_info": {
   "codemirror_mode": {
    "name": "ipython",
    "version": 3
   },
   "file_extension": ".py",
   "mimetype": "text/x-python",
   "name": "python",
   "nbconvert_exporter": "python",
   "pygments_lexer": "ipython3",
   "version": "3.7.5"
  }
 },
 "nbformat": 4,
 "nbformat_minor": 2
}
